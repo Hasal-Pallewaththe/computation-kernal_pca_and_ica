{
 "cells": [
  {
   "cell_type": "code",
   "execution_count": null,
   "metadata": {},
   "outputs": [],
   "source": []
  }
 ],
 "metadata": {
  "kernelspec": {
   "display_name": "FMLTute",
   "language": "python",
   "name": "python3"
  },
  "language_info": {
   "name": "python",
   "version": "3.8.13 (default, Mar 28 2022, 06:59:08) [MSC v.1916 64 bit (AMD64)]"
  },
  "orig_nbformat": 4,
  "vscode": {
   "interpreter": {
    "hash": "d0b46c7aaa1e6b52cf44fb9fec4d64e0a8aad825e7eca6918d5a586b047d6e42"
   }
  }
 },
 "nbformat": 4,
 "nbformat_minor": 2
}
